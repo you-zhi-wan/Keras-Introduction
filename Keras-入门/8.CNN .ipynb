{
 "cells": [
  {
   "cell_type": "code",
   "execution_count": 3,
   "metadata": {},
   "outputs": [],
   "source": [
    "import numpy as np\n",
    "import tensorflow as tf\n",
    "from tensorflow.keras.datasets import mnist\n",
    "from tensorflow.python.keras.utils import np_utils\n",
    "from tensorflow.keras.models import Sequential\n",
    "from tensorflow.keras.layers import Dense,Dropout,Convolution2D,MaxPooling2D,Flatten\n",
    "from tensorflow.keras.optimizers import Adam"
   ]
  },
  {
   "cell_type": "code",
   "execution_count": null,
   "metadata": {},
   "outputs": [
    {
     "name": "stdout",
     "output_type": "stream",
     "text": [
      "Epoch 1/10\n",
      "938/938 [==============================] - 83s 88ms/step - loss: 0.3213 - accuracy: 0.9103\n",
      "Epoch 2/10\n",
      "938/938 [==============================] - 81s 86ms/step - loss: 0.0896 - accuracy: 0.9735\n",
      "Epoch 3/10\n",
      "938/938 [==============================] - 81s 86ms/step - loss: 0.0618 - accuracy: 0.9811\n",
      "Epoch 4/10\n",
      "938/938 [==============================] - 86s 92ms/step - loss: 0.0494 - accuracy: 0.9848\n",
      "Epoch 5/10\n",
      "938/938 [==============================] - 71s 76ms/step - loss: 0.0411 - accuracy: 0.9871\n",
      "Epoch 6/10\n",
      "938/938 [==============================] - 72s 76ms/step - loss: 0.0346 - accuracy: 0.9897\n",
      "Epoch 7/10\n",
      "938/938 [==============================] - 81s 86ms/step - loss: 0.0290 - accuracy: 0.9914\n",
      "Epoch 8/10\n",
      "938/938 [==============================] - 78s 83ms/step - loss: 0.0261 - accuracy: 0.9919\n",
      "Epoch 9/10\n",
      "938/938 [==============================] - 77s 82ms/step - loss: 0.0225 - accuracy: 0.9928\n",
      "Epoch 10/10\n",
      "938/938 [==============================] - 71s 75ms/step - loss: 0.0193 - accuracy: 0.9941\n",
      " 37/313 [==>...........................] - ETA: 2s - loss: 0.0199 - accuracy: 0.9932"
     ]
    }
   ],
   "source": [
    "#载入数据\n",
    "(x_train,y_train),(x_test,y_test) = mnist.load_data()\n",
    "#(60000,28,28)->(60000,28,28,1)\n",
    "x_train = x_train.reshape(-1,28,28,1)/255.0\n",
    "x_test = x_test.reshape(-1,28,28,1)/255.0\n",
    "#换one hot格式\n",
    "y_train = np_utils.to_categorical(y_train,num_classes=10)\n",
    "y_test = np_utils.to_categorical(y_test,num_classes=10)\n",
    "\n",
    "#定义顺序模型\n",
    "model = Sequential()\n",
    "\n",
    "#第一个卷积层\n",
    "#input_shape输入平面\n",
    "#filter卷积核/滤波器个数\n",
    "#kernel_size卷积窗口大小\n",
    "#strides步长\n",
    "#padding padding方式same/valid\n",
    "#activation激活函数\n",
    "model.add(Convolution2D(\n",
    "       input_shape = (28,28,1),\n",
    "       filters = 32,\n",
    "       kernel_size = 5,\n",
    "       strides = 1,\n",
    "       padding = 'same',\n",
    "       activation = 'relu'\n",
    "))\n",
    "#第一个池化层\n",
    "model.add(MaxPooling2D(\n",
    "       pool_size = 2,\n",
    "       strides = 2,\n",
    "       padding = 'same'\n",
    "))\n",
    "#第二个卷积层\n",
    "model.add(Convolution2D(64,5,strides=1,padding='same',activation='relu'))\n",
    "#第二个池化层\n",
    "model.add(MaxPooling2D(2,2,'same'))\n",
    "#把第二个池化层的输出扁平化为1维\n",
    "model.add(Flatten())\n",
    "#第一个全连接层\n",
    "model.add(Dense(1024,activation='relu'))\n",
    "#Dropout\n",
    "model.add(Dropout(0.5))\n",
    "#第二个全连接层\n",
    "model.add(Dense(10,activation='softmax'))\n",
    "\n",
    "#定义优化器\n",
    "adam = Adam(lr=1e-4)\n",
    "\n",
    "#定义优化器，loss function，训练过程中计算准确率\n",
    "model.compile(optimizer=adam,loss='categorical_crossentropy',metrics=['accuracy'])\n",
    "\n",
    "#训练模型\n",
    "model.fit(x_train,y_train,batch_size=64,epochs=10)\n",
    "\n",
    "#评估模型\n",
    "loss,accuracy = model.evaluate(x_test,y_test)\n",
    "\n",
    "print('test loss',loss)\n",
    "print('test accuracy',accuracy)"
   ]
  },
  {
   "cell_type": "code",
   "execution_count": null,
   "metadata": {},
   "outputs": [],
   "source": []
  }
 ],
 "metadata": {
  "kernelspec": {
   "display_name": "Python 3",
   "language": "python",
   "name": "python3"
  },
  "language_info": {
   "codemirror_mode": {
    "name": "ipython",
    "version": 3
   },
   "file_extension": ".py",
   "mimetype": "text/x-python",
   "name": "python",
   "nbconvert_exporter": "python",
   "pygments_lexer": "ipython3",
   "version": "3.8.5"
  }
 },
 "nbformat": 4,
 "nbformat_minor": 4
}
