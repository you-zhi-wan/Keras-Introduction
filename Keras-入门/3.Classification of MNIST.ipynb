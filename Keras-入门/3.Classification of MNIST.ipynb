{
 "cells": [
  {
   "cell_type": "code",
   "execution_count": 2,
   "metadata": {},
   "outputs": [],
   "source": [
    "import numpy as np\n",
    "import tensorflow as tf\n",
    "from tensorflow.keras.datasets import mnist\n",
    "from tensorflow.python.keras.utils import np_utils\n",
    "from tensorflow.keras.models import Sequential\n",
    "from tensorflow.keras.layers import Dense\n",
    "from tensorflow.keras.optimizers import SGD"
   ]
  },
  {
   "cell_type": "code",
   "execution_count": 3,
   "metadata": {},
   "outputs": [
    {
     "name": "stdout",
     "output_type": "stream",
     "text": [
      "x_shape (60000, 28, 28)\n",
      "y_shape (60000,)\n",
      "Epoch 1/10\n",
      "1875/1875 [==============================] - 1s 481us/step - loss: 0.0386 - accuracy: 0.7657\n",
      "Epoch 2/10\n",
      "1875/1875 [==============================] - 1s 518us/step - loss: 0.0204 - accuracy: 0.8816\n",
      "Epoch 3/10\n",
      "1875/1875 [==============================] - 1s 631us/step - loss: 0.0178 - accuracy: 0.8932\n",
      "Epoch 4/10\n",
      "1875/1875 [==============================] - 1s 593us/step - loss: 0.0165 - accuracy: 0.9001\n",
      "Epoch 5/10\n",
      "1875/1875 [==============================] - 1s 648us/step - loss: 0.0156 - accuracy: 0.9035\n",
      "Epoch 6/10\n",
      "1875/1875 [==============================] - 1s 640us/step - loss: 0.0151 - accuracy: 0.9071\n",
      "Epoch 7/10\n",
      "1875/1875 [==============================] - 1s 569us/step - loss: 0.0146 - accuracy: 0.9093\n",
      "Epoch 8/10\n",
      "1875/1875 [==============================] - 1s 666us/step - loss: 0.0143 - accuracy: 0.9110\n",
      "Epoch 9/10\n",
      "1875/1875 [==============================] - 1s 573us/step - loss: 0.0140 - accuracy: 0.9130\n",
      "Epoch 10/10\n",
      "1875/1875 [==============================] - 1s 639us/step - loss: 0.0137 - accuracy: 0.9140\n",
      "313/313 [==============================] - 0s 642us/step - loss: 0.0130 - accuracy: 0.9171\n",
      "\n",
      "test loss 0.013046632520854473\n",
      "accuracy 0.9171000123023987\n"
     ]
    }
   ],
   "source": [
    "#载入数据\n",
    "(x_train,y_train),(x_test,y_test) = mnist.load_data()\n",
    "#(60000,28,28)\n",
    "print('x_shape',x_train.shape)\n",
    "#(60000)\n",
    "print('y_shape',y_train.shape)\n",
    "#(60000,28,28)->(60000,784)\n",
    "x_train = x_train.reshape(x_train.shape[0],-1)/255.0\n",
    "x_test = x_test.reshape(x_test.shape[0],-1)/255.0\n",
    "#换one hot格式\n",
    "y_train = np_utils.to_categorical(y_train,num_classes=10)\n",
    "y_test = np_utils.to_categorical(y_test,num_classes=10)\n",
    "\n",
    "#创建模型，输入784个神经元，输出10个神经元\n",
    "model = Sequential([\n",
    "    Dense(units=10,input_dim=784,bias_initializer='one',activation='softmax')\n",
    "   ])\n",
    "\n",
    "#定义优化器\n",
    "sgd = SGD(lr=0.2)\n",
    "\n",
    "#定义优化器，loss function，训练过程中计算准确率\n",
    "model.compile(\n",
    "    optimizer=sgd,\n",
    "    loss='mse',\n",
    "    metrics=['accuracy']\n",
    ")\n",
    "\n",
    "#训练模型\n",
    "model.fit(x_train,y_train,batch_size=32,epochs=10)\n",
    "\n",
    "#评估模型\n",
    "loss,accuracy = model.evaluate(x_test,y_test)\n",
    "\n",
    "print('\\ntest loss',loss)\n",
    "print('accuracy',accuracy)"
   ]
  },
  {
   "cell_type": "code",
   "execution_count": null,
   "metadata": {},
   "outputs": [],
   "source": []
  }
 ],
 "metadata": {
  "kernelspec": {
   "display_name": "Python 3",
   "language": "python",
   "name": "python3"
  },
  "language_info": {
   "codemirror_mode": {
    "name": "ipython",
    "version": 3
   },
   "file_extension": ".py",
   "mimetype": "text/x-python",
   "name": "python",
   "nbconvert_exporter": "python",
   "pygments_lexer": "ipython3",
   "version": "3.8.5"
  }
 },
 "nbformat": 4,
 "nbformat_minor": 4
}
