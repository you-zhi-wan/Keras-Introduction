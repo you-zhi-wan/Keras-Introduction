{
 "cells": [
  {
   "cell_type": "code",
   "execution_count": 5,
   "metadata": {},
   "outputs": [],
   "source": [
    "import numpy as np\n",
    "import tensorflow as tf\n",
    "from tensorflow.keras.datasets import mnist\n",
    "from tensorflow.python.keras.utils import np_utils\n",
    "from tensorflow.keras.models import Sequential\n",
    "from tensorflow.keras.layers import Dense,SimpleRNN\n",
    "from tensorflow.keras.optimizers import Adam"
   ]
  },
  {
   "cell_type": "code",
   "execution_count": null,
   "metadata": {},
   "outputs": [],
   "source": [
    "#数据长度-一行有28个元素\n",
    "input_size = 28\n",
    "#序列长度-一共有28行\n",
    "time_steps = 28\n",
    "#隐藏层cell个数\n",
    "cell_size = 50\n",
    "\n",
    "#载入数据\n",
    "(x_train,y_train),(x_test,y_test) = mnist.load_data()\n",
    "#(60000,28,28)\n",
    "x_train = x_train/255.0\n",
    "x_test = x_test/255.0\n",
    "#换one hot格式\n",
    "y_train = np_utils.to_categorical(y_train,num_classes=10)\n",
    "y_test = np_utils.to_categorical(y_test,num_classes=10)\n",
    "\n",
    "#创建模型\n",
    "model = Sequential()\n",
    "\n",
    "#循环神经网络\n",
    "model.add(SimpleRNN(\n",
    "      units=cell_size,#输出\n",
    "      input_shape=(time_steps,input_size),#输入\n",
    "))\n",
    "\n",
    "#输出层\n",
    "model.add(Dense(10,activation='softmax'))\n",
    "\n",
    "#定义优化器\n",
    "adam = Adam(lr=1e-4)\n",
    "\n",
    "#定义优化器，loss function，训练过程中计算准确率\n",
    "model.compile(optimizer=adam,loss='categorical_')"
   ]
  }
 ],
 "metadata": {
  "kernelspec": {
   "display_name": "Python 3",
   "language": "python",
   "name": "python3"
  },
  "language_info": {
   "codemirror_mode": {
    "name": "ipython",
    "version": 3
   },
   "file_extension": ".py",
   "mimetype": "text/x-python",
   "name": "python",
   "nbconvert_exporter": "python",
   "pygments_lexer": "ipython3",
   "version": "3.8.5"
  }
 },
 "nbformat": 4,
 "nbformat_minor": 4
}
