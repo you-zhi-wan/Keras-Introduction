{
 "cells": [
  {
   "cell_type": "code",
   "execution_count": 1,
   "metadata": {},
   "outputs": [],
   "source": [
    "import numpy as np\n",
    "import tensorflow as tf\n",
    "from tensorflow.keras.datasets import mnist\n",
    "from tensorflow.python.keras.utils import np_utils\n",
    "from tensorflow.keras.models import Sequential\n",
    "from tensorflow.keras.layers import Dense\n",
    "from tensorflow.keras.optimizers import SGD"
   ]
  },
  {
   "cell_type": "code",
   "execution_count": 2,
   "metadata": {},
   "outputs": [
    {
     "name": "stdout",
     "output_type": "stream",
     "text": [
      "x_shape (60000, 28, 28)\n",
      "y_shape (60000,)\n",
      "Epoch 1/10\n",
      "1875/1875 [==============================] - 1s 644us/step - loss: 0.3765 - accuracy: 0.8926\n",
      "Epoch 2/10\n",
      "1875/1875 [==============================] - 1s 553us/step - loss: 0.3026 - accuracy: 0.9137\n",
      "Epoch 3/10\n",
      "1875/1875 [==============================] - 1s 560us/step - loss: 0.2901 - accuracy: 0.9181\n",
      "Epoch 4/10\n",
      "1875/1875 [==============================] - 1s 548us/step - loss: 0.2833 - accuracy: 0.9204\n",
      "Epoch 5/10\n",
      "1875/1875 [==============================] - 1s 558us/step - loss: 0.2779 - accuracy: 0.9217\n",
      "Epoch 6/10\n",
      "1875/1875 [==============================] - 1s 615us/step - loss: 0.2746 - accuracy: 0.9226\n",
      "Epoch 7/10\n",
      "1875/1875 [==============================] - 1s 607us/step - loss: 0.2717 - accuracy: 0.9243\n",
      "Epoch 8/10\n",
      "1875/1875 [==============================] - 1s 621us/step - loss: 0.2687 - accuracy: 0.9248\n",
      "Epoch 9/10\n",
      "1875/1875 [==============================] - 1s 601us/step - loss: 0.2669 - accuracy: 0.9258\n",
      "Epoch 10/10\n",
      "1875/1875 [==============================] - 1s 634us/step - loss: 0.2650 - accuracy: 0.9262\n",
      "313/313 [==============================] - 0s 586us/step - loss: 0.2747 - accuracy: 0.9232\n",
      "\n",
      "test loss 0.2746660113334656\n",
      "accuracy 0.9232000112533569\n"
     ]
    }
   ],
   "source": [
    "#载入数据\n",
    "(x_train,y_train),(x_test,y_test) = mnist.load_data()\n",
    "#(60000,28,28)\n",
    "print('x_shape',x_train.shape)\n",
    "#(60000)\n",
    "print('y_shape',y_train.shape)\n",
    "#(60000,28,28)->(60000,784)\n",
    "x_train = x_train.reshape(x_train.shape[0],-1)/255.0\n",
    "x_test = x_test.reshape(x_test.shape[0],-1)/255.0\n",
    "#换one hot格式\n",
    "y_train = np_utils.to_categorical(y_train,num_classes=10)\n",
    "y_test = np_utils.to_categorical(y_test,num_classes=10)\n",
    "\n",
    "#创建模型，输入784个神经元，输出10个神经元\n",
    "model = Sequential([\n",
    "    Dense(units=10,input_dim=784,bias_initializer='one',activation='softmax')\n",
    "   ])\n",
    "\n",
    "#定义优化器\n",
    "sgd = SGD(lr=0.2)\n",
    "\n",
    "#定义优化器，loss function，训练过程中计算准确率\n",
    "model.compile(\n",
    "    optimizer=sgd,\n",
    "    loss='categorical_crossentropy',\n",
    "    metrics=['accuracy']\n",
    ")\n",
    "\n",
    "#训练模型\n",
    "model.fit(x_train,y_train,batch_size=32,epochs=10)\n",
    "\n",
    "#评估模型\n",
    "loss,accuracy = model.evaluate(x_test,y_test)\n",
    "\n",
    "print('\\ntest loss',loss)\n",
    "print('accuracy',accuracy)"
   ]
  },
  {
   "cell_type": "code",
   "execution_count": null,
   "metadata": {},
   "outputs": [],
   "source": []
  }
 ],
 "metadata": {
  "kernelspec": {
   "display_name": "Python 3",
   "language": "python",
   "name": "python3"
  },
  "language_info": {
   "codemirror_mode": {
    "name": "ipython",
    "version": 3
   },
   "file_extension": ".py",
   "mimetype": "text/x-python",
   "name": "python",
   "nbconvert_exporter": "python",
   "pygments_lexer": "ipython3",
   "version": "3.8.5"
  }
 },
 "nbformat": 4,
 "nbformat_minor": 4
}
